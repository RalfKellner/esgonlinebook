{
 "cells": [
  {
   "cell_type": "code",
   "execution_count": 1,
   "metadata": {},
   "outputs": [
    {
     "ename": "ModuleNotFoundError",
     "evalue": "No module named 'eikon'",
     "output_type": "error",
     "traceback": [
      "\u001b[0;31m---------------------------------------------------------------------------\u001b[0m",
      "\u001b[0;31mModuleNotFoundError\u001b[0m                       Traceback (most recent call last)",
      "Cell \u001b[0;32mIn[1], line 1\u001b[0m\n\u001b[0;32m----> 1\u001b[0m \u001b[38;5;28;01mimport\u001b[39;00m \u001b[38;5;21;01meikon\u001b[39;00m \u001b[38;5;28;01mas\u001b[39;00m \u001b[38;5;21;01mek\u001b[39;00m\n\u001b[1;32m      2\u001b[0m \u001b[38;5;28;01mfrom\u001b[39;00m \u001b[38;5;21;01meikon_app\u001b[39;00m \u001b[38;5;28;01mimport\u001b[39;00m app_key, esg_environmental_fieldnames\n\u001b[1;32m      4\u001b[0m ek\u001b[38;5;241m.\u001b[39mset_app_key(app_key)\n",
      "\u001b[0;31mModuleNotFoundError\u001b[0m: No module named 'eikon'"
     ]
    }
   ],
   "source": [
    "import eikon as ek\n",
    "from eikon_app import app_key, esg_environmental_fieldnames\n",
    "\n",
    "ek.set_app_key(app_key)"
   ]
  },
  {
   "cell_type": "code",
   "execution_count": 2,
   "metadata": {},
   "outputs": [],
   "source": [
    "sp500_members, err = ek.get_data('.SPX', ['TR.IndexConstituentRIC'])\n",
    "sp_instruments = [member for member in sp500_members[\"Constituent RIC\"].tolist() if isinstance(member, str)]"
   ]
  },
  {
   "cell_type": "code",
   "execution_count": 6,
   "metadata": {},
   "outputs": [
    {
     "data": {
      "application/vnd.jupyter.widget-view+json": {
       "model_id": "4b0c9dc57e9b45b28f177083a015ae1f",
       "version_major": 2,
       "version_minor": 0
      },
      "text/plain": [
       "0it [00:00, ?it/s]"
      ]
     },
     "metadata": {},
     "output_type": "display_data"
    },
    {
     "name": "stderr",
     "output_type": "stream",
     "text": [
      "/var/folders/b2/4n66nr1x7jqcn2s9rswzy7180000gn/T/ipykernel_3660/3703033020.py:17: FutureWarning: The behavior of DataFrame concatenation with empty or all-NA entries is deprecated. In a future version, this will no longer exclude empty or all-NA columns when determining the result dtypes. To retain the old behavior, exclude the relevant entries before the concat operation.\n",
      "  df = pd.concat((df, df_tmp.copy()), axis = 0)\n",
      "/var/folders/b2/4n66nr1x7jqcn2s9rswzy7180000gn/T/ipykernel_3660/3703033020.py:17: FutureWarning: The behavior of DataFrame concatenation with empty or all-NA entries is deprecated. In a future version, this will no longer exclude empty or all-NA columns when determining the result dtypes. To retain the old behavior, exclude the relevant entries before the concat operation.\n",
      "  df = pd.concat((df, df_tmp.copy()), axis = 0)\n",
      "2023-09-30 15:35:59,771 P[3660] [MainThread 8037228672] Backend error. 400 Bad Request\n",
      "2023-09-30 15:35:59,771 P[3660] [MainThread 8037228672] HTTP request failed: EikonError-Backend error. 400 Bad Request\n"
     ]
    },
    {
     "name": "stdout",
     "output_type": "stream",
     "text": [
      "No data retrieved for FOX.OQ\n"
     ]
    },
    {
     "name": "stderr",
     "output_type": "stream",
     "text": [
      "2023-09-30 15:36:24,282 P[3660] [MainThread 8037228672] Backend error. 400 Bad Request\n",
      "2023-09-30 15:36:24,284 P[3660] [MainThread 8037228672] HTTP request failed: EikonError-Backend error. 400 Bad Request\n"
     ]
    },
    {
     "name": "stdout",
     "output_type": "stream",
     "text": [
      "No data retrieved for WY.N\n"
     ]
    },
    {
     "name": "stderr",
     "output_type": "stream",
     "text": [
      "2023-09-30 15:46:00,694 P[3660] [MainThread 8037228672] Backend error. 400 Bad Request\n",
      "2023-09-30 15:46:00,697 P[3660] [MainThread 8037228672] HTTP request failed: EikonError-Backend error. 400 Bad Request\n"
     ]
    },
    {
     "name": "stdout",
     "output_type": "stream",
     "text": [
      "No data retrieved for GWW.N\n"
     ]
    },
    {
     "name": "stderr",
     "output_type": "stream",
     "text": [
      "2023-09-30 15:46:18,923 P[3660] [MainThread 8037228672] Backend error. 400 Bad Request\n",
      "2023-09-30 15:46:18,924 P[3660] [MainThread 8037228672] HTTP request failed: EikonError-Backend error. 400 Bad Request\n"
     ]
    },
    {
     "name": "stdout",
     "output_type": "stream",
     "text": [
      "No data retrieved for K.N\n"
     ]
    },
    {
     "name": "stderr",
     "output_type": "stream",
     "text": [
      "2023-09-30 15:48:30,579 P[3660] [MainThread 8037228672] Backend error. 400 Bad Request\n",
      "2023-09-30 15:48:30,579 P[3660] [MainThread 8037228672] HTTP request failed: EikonError-Backend error. 400 Bad Request\n"
     ]
    },
    {
     "name": "stdout",
     "output_type": "stream",
     "text": [
      "No data retrieved for BIIB.OQ\n"
     ]
    },
    {
     "name": "stderr",
     "output_type": "stream",
     "text": [
      "2023-09-30 15:48:57,615 P[3660] [MainThread 8037228672] Backend error. 400 Bad Request\n",
      "2023-09-30 15:48:57,617 P[3660] [MainThread 8037228672] HTTP request failed: EikonError-Backend error. 400 Bad Request\n"
     ]
    },
    {
     "name": "stdout",
     "output_type": "stream",
     "text": [
      "No data retrieved for CBOE.Z\n"
     ]
    },
    {
     "name": "stderr",
     "output_type": "stream",
     "text": [
      "2023-09-30 15:49:57,713 P[3660] [MainThread 8037228672] Backend error. 400 Bad Request\n",
      "2023-09-30 15:49:57,714 P[3660] [MainThread 8037228672] HTTP request failed: EikonError-Backend error. 400 Bad Request\n"
     ]
    },
    {
     "name": "stdout",
     "output_type": "stream",
     "text": [
      "No data retrieved for BMY.N\n"
     ]
    },
    {
     "name": "stderr",
     "output_type": "stream",
     "text": [
      "2023-09-30 15:51:59,483 P[3660] [MainThread 8037228672] Backend error. 400 Bad Request\n",
      "2023-09-30 15:51:59,485 P[3660] [MainThread 8037228672] HTTP request failed: EikonError-Backend error. 400 Bad Request\n"
     ]
    },
    {
     "name": "stdout",
     "output_type": "stream",
     "text": [
      "No data retrieved for BRKb.N\n"
     ]
    }
   ],
   "source": [
    "import pandas as pd\n",
    "from tqdm.notebook import tqdm\n",
    "\n",
    "\n",
    "no_data = []\n",
    "\n",
    "for i, instrument in tqdm(enumerate(sp_instruments)):\n",
    "    try:\n",
    "        df_tmp, err = ek.get_data(\n",
    "            instruments = [instrument],\n",
    "            fields = esg_environmental_fieldnames    \n",
    "        )\n",
    "\n",
    "        if i==0:\n",
    "            df = df_tmp.copy()\n",
    "        else:\n",
    "            df = pd.concat((df, df_tmp.copy()), axis = 0)\n",
    "            \n",
    "    except:\n",
    "        no_data.append(instrument)\n",
    "        print(f\"No data retrieved for {instrument}\")"
   ]
  },
  {
   "cell_type": "code",
   "execution_count": 9,
   "metadata": {},
   "outputs": [],
   "source": [
    "df.to_csv(\"../data/sp500_environmental.csv\", index=False)"
   ]
  },
  {
   "cell_type": "code",
   "execution_count": 11,
   "metadata": {},
   "outputs": [
    {
     "data": {
      "text/plain": [
       "Instrument                                                 0\n",
       "Noise Reduction                                            3\n",
       "Hybrid Vehicles                                            3\n",
       "Environmental Assets Under Mgt                             3\n",
       "Equator Principles                                         3\n",
       "                                                        ... \n",
       "GHG Emissions Scope 1,2 Per Aromatics Production         495\n",
       "GHG Emissions Scope 1,2 Per Vinyl Chloride Production    495\n",
       "GHG Emissions Scope 1,2 Per Styrene Production           495\n",
       "GHG Emissions Scope 1,2 Per Coke Production              495\n",
       "Cement CO2 Equivalents Emission CAGR 5 year              495\n",
       "Length: 270, dtype: int64"
      ]
     },
     "execution_count": 11,
     "metadata": {},
     "output_type": "execute_result"
    }
   ],
   "source": [
    "df.isnull().sum().sort_values()"
   ]
  }
 ],
 "metadata": {
  "kernelspec": {
   "display_name": ".nbvenv",
   "language": "python",
   "name": "python3"
  },
  "language_info": {
   "codemirror_mode": {
    "name": "ipython",
    "version": 3
   },
   "file_extension": ".py",
   "mimetype": "text/x-python",
   "name": "python",
   "nbconvert_exporter": "python",
   "pygments_lexer": "ipython3",
   "version": "3.11.4"
  }
 },
 "nbformat": 4,
 "nbformat_minor": 2
}