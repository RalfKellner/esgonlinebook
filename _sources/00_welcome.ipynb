{
 "cells": [
  {
   "cell_type": "markdown",
   "metadata": {},
   "source": [
    "# Welcome\n",
    "\n",
    "Welcome to the course Environmental, Social and Corporate Governance Analytics! While the name of the course may be a bit bulky, the content is not. Non-financial factors which relate to a company's behavior in the context of environmental, social and governance issues play an important role when evaluating the company's outlook in terms of profitability and risk. While it may be already difficult for companies to assess their own potential risks in this matter, external parties are likely to struggle even more. This is where external rating agencies come into play which aim to quantify a company's ESG risk and report these assessments in form of ratings to third parties. Several agencies provide ESG ratings, however, the literature finds great discrepancies of ESG ratings among different agencies. This is extremely problematic for third parties whose business and investment decisions depend on ESG ratings. In this course we are going to learn about the following things:\n",
    "\n",
    "* ESG factors\n",
    "* ESG ratings agencies\n",
    "* Variables which are used to determine ESG ratings\n",
    "* Potential causes for ESG rating heterogeneity\n",
    "* Develop your own ESG rating and experience challenges which come along with this task\n",
    "\n",
    "\n"
   ]
  }
 ],
 "metadata": {
  "language_info": {
   "name": "python"
  },
  "orig_nbformat": 4
 },
 "nbformat": 4,
 "nbformat_minor": 2
}
