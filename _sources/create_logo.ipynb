{
 "cells": [
  {
   "cell_type": "code",
   "execution_count": 1,
   "metadata": {},
   "outputs": [
    {
     "ename": "ModuleNotFoundError",
     "evalue": "No module named 'wordcloud'",
     "output_type": "error",
     "traceback": [
      "\u001b[0;31m---------------------------------------------------------------------------\u001b[0m",
      "\u001b[0;31mModuleNotFoundError\u001b[0m                       Traceback (most recent call last)",
      "\u001b[1;32m/Users/ralfkellner/Library/Mobile Documents/com~apple~CloudDocs/Kurse/ESG/course_book/create_logo.ipynb Cell 1\u001b[0m line \u001b[0;36m1\n\u001b[0;32m----> <a href='vscode-notebook-cell:/Users/ralfkellner/Library/Mobile%20Documents/com~apple~CloudDocs/Kurse/ESG/course_book/create_logo.ipynb#W0sZmlsZQ%3D%3D?line=0'>1</a>\u001b[0m \u001b[39mfrom\u001b[39;00m \u001b[39mwordcloud\u001b[39;00m \u001b[39mimport\u001b[39;00m WordCloud\n\u001b[1;32m      <a href='vscode-notebook-cell:/Users/ralfkellner/Library/Mobile%20Documents/com~apple~CloudDocs/Kurse/ESG/course_book/create_logo.ipynb#W0sZmlsZQ%3D%3D?line=1'>2</a>\u001b[0m \u001b[39mimport\u001b[39;00m \u001b[39mmatplotlib\u001b[39;00m\u001b[39m.\u001b[39;00m\u001b[39mpylab\u001b[39;00m \u001b[39mas\u001b[39;00m \u001b[39mplt\u001b[39;00m\n\u001b[1;32m      <a href='vscode-notebook-cell:/Users/ralfkellner/Library/Mobile%20Documents/com~apple~CloudDocs/Kurse/ESG/course_book/create_logo.ipynb#W0sZmlsZQ%3D%3D?line=4'>5</a>\u001b[0m text \u001b[39m=\u001b[39m \u001b[39m'\u001b[39m\u001b[39menvironmental social governance ratings \u001b[39m\u001b[39m'\u001b[39m\n",
      "\u001b[0;31mModuleNotFoundError\u001b[0m: No module named 'wordcloud'"
     ]
    }
   ],
   "source": [
    "from wordcloud import WordCloud\n",
    "import matplotlib.pylab as plt\n",
    "\n",
    "\n",
    "text = 'environmental social governance ratings regulation heterogeneity'\n",
    "wordcloud = WordCloud(background_color='white', random_state = 2).generate(text)\n",
    "\n",
    "fig = plt.figure(figsize=(6,3), dpi = 100)\n",
    "ax = plt.axes([0,0,1,1])\n",
    "plt.imshow(wordcloud, interpolation='bilinear', aspect = 'equal')\n",
    "plt.axis('off')\n",
    "plt.savefig('./course_logo.png')\n",
    "plt.show()"
   ]
  }
 ],
 "metadata": {
  "kernelspec": {
   "display_name": ".nbvenv",
   "language": "python",
   "name": "python3"
  },
  "language_info": {
   "codemirror_mode": {
    "name": "ipython",
    "version": 3
   },
   "file_extension": ".py",
   "mimetype": "text/x-python",
   "name": "python",
   "nbconvert_exporter": "python",
   "pygments_lexer": "ipython3",
   "version": "3.11.4"
  },
  "orig_nbformat": 4
 },
 "nbformat": 4,
 "nbformat_minor": 2
}
